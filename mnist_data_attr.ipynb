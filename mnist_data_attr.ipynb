{
  "cells": [
    {
      "cell_type": "code",
      "execution_count": 1,
      "metadata": {
        "cellView": "form",
        "id": "FR8YNR-g9JXA"
      },
      "outputs": [],
      "source": [
        "#@title Imports external sources\n",
        "import os\n",
        "import io\n",
        "import PIL.Image, PIL.ImageDraw, PIL.ImageFont\n",
        "import base64\n",
        "import zipfile\n",
        "import json\n",
        "import requests\n",
        "import matplotlib.pylab as pl\n",
        "import numpy as np\n",
        "import glob\n",
        "import requests\n",
        "import random as pyrandom\n",
        "from concurrent import futures\n",
        "from functools import partial\n",
        "from scipy.ndimage import rotate\n",
        "from IPython.display import Image, HTML, clear_output\n",
        "from tqdm import tqdm_notebook, tnrange\n",
        "import time\n",
        "from typing import Any, MutableMapping, NamedTuple, Tuple\n",
        "# !pip install --quiet --upgrade tensorflow \n",
        "# !pip install --quiet --upgrade jax\n",
        "# !pip install --quiet --upgrade jaxlib\n",
        "import jax\n",
        "from jax import grad, jit, vmap\n",
        "import jax.numpy as jnp\n",
        "\n",
        "# !pip install --quiet -U dm-haiku\n",
        "# !pip install --quiet -U optax\n",
        "import haiku as hk\n",
        "import math\n",
        "# !pip install --quiet -U ml_collections\n",
        "from ml_collections import config_dict\n",
        "import matplotlib.pylab as pl\n",
        "import matplotlib.colors as mcolors\n",
        "colors = pl.colormaps['Dark2'] \n",
        "\n",
        "os.environ['CUDA_VISIBLE_DEVICES'] = '3'"
      ]
    },
    {
      "cell_type": "code",
      "execution_count": 2,
      "metadata": {
        "cellView": "form",
        "id": "933ztM3DSREA"
      },
      "outputs": [
        {
          "name": "stderr",
          "output_type": "stream",
          "text": [
            "2024-05-19 01:58:03.477384: W external/xla/xla/service/gpu/nvptx_compiler.cc:742] The NVIDIA driver's CUDA version is 12.3 which is older than the ptxas CUDA version (12.4.99). Because the driver is older than the ptxas version, XLA is disabling parallel compilation, which may slow down compilation. You should update your NVIDIA driver or use the NVIDIA-provided CUDA forward compatibility packages.\n"
          ]
        }
      ],
      "source": [
        "#@title Import internal sources (from github)\n",
        "# !git clone --quiet https://github.com/google-research/self-organising-systems.git /content/self-organising-systems > /dev/null 2>&1\n",
        "# %cd /content/self-organising-systems/transformers_learn_icl_by_gd\n",
        "from src.transformer import Transformer\n",
        "from src.data import create_circ_cls_data, create_weights\n",
        "from src.config import config\n",
        "from src.train import *"
      ]
    },
    {
      "cell_type": "code",
      "execution_count": 3,
      "metadata": {},
      "outputs": [],
      "source": [
        "from torchvision.datasets import MNIST\n",
        "import numpy as np\n",
        "import jax.numpy as jnp\n",
        "from jax.tree_util import tree_map\n",
        "from torch.utils import data\n",
        "from torchvision.datasets import MNIST\n",
        "\n",
        "def concate_feature_label_collate(batch):\n",
        "  features, labels = zip(*batch)\n",
        "  # append labels to the features\n",
        "  concatenated = [np.concatenate([f, np.array([l])]) for f, l in zip(features, labels)]\n",
        "  return np.array(concatenated, dtype=jnp.float32)\n",
        "\n",
        "def numpy_collate(batch):\n",
        "  return tree_map(np.asarray, concate_feature_label_collate(batch))\n",
        "\n",
        "class NumpyLoader(data.DataLoader):\n",
        "  def __init__(self, dataset, batch_size=1,\n",
        "                shuffle=False, sampler=None,\n",
        "                batch_sampler=None, num_workers=0,\n",
        "                pin_memory=False, drop_last=False,\n",
        "                timeout=0, worker_init_fn=None):\n",
        "    super(self.__class__, self).__init__(dataset,\n",
        "        batch_size=batch_size,\n",
        "        shuffle=shuffle,\n",
        "        sampler=sampler,\n",
        "        batch_sampler=batch_sampler,\n",
        "        num_workers=num_workers,\n",
        "        collate_fn=numpy_collate,\n",
        "        pin_memory=pin_memory,\n",
        "        drop_last=drop_last,\n",
        "        timeout=timeout,\n",
        "        worker_init_fn=worker_init_fn)\n",
        "\n",
        "class FlattenAndCast(object):\n",
        "  def __call__(self, pic):\n",
        "    return np.ravel(np.array(pic, dtype=jnp.float32))\n",
        "\n",
        "# Define our dataset, using torch datasets\n",
        "mnist_dataset = MNIST('./data', train=True, download=True, transform=FlattenAndCast())\n",
        "training_generator = NumpyLoader(mnist_dataset, batch_size=1, num_workers=0)\n",
        "# convert to a np array\n",
        "mnist_data = np.array(list(training_generator))\n",
        "\n",
        "# squeeze the 2nd dimension\n",
        "mnist_data = np.squeeze(mnist_data, axis=1)\n",
        "\n",
        "# filter out all entries in mnist_data with last element other than [0,1,2]\n",
        "num_classes = 2\n",
        "total_classes = 5\n",
        "assert total_classes >= num_classes\n",
        "filtered_mnist_data = mnist_data[mnist_data[..., -1] < num_classes]\n",
        "\n",
        "# batch the data\n",
        "bs = 10\n",
        "num = filtered_mnist_data.shape[0] // bs * bs\n",
        "batched_mnist_data = np.asarray(np.split(filtered_mnist_data[:num], bs))\n",
        "batched_mnist_data = batched_mnist_data.transpose(1, 0, 2)"
      ]
    },
    {
      "cell_type": "code",
      "execution_count": 4,
      "metadata": {},
      "outputs": [],
      "source": [
        "# augment each batch in batched_mnist_data with different label mapping\n",
        "augmented_batched_mnist_data = []\n",
        "for i, batch in enumerate(batched_mnist_data):\n",
        "  augmented_batch = np.copy(batch)\n",
        "  for _ in range(4):\n",
        "    # random permutation of total_classes\n",
        "    perm = np.random.permutation(total_classes)\n",
        "    augmented_batch[..., -1] = perm[augmented_batch[..., -1].astype(int)]\n",
        "    augmented_batched_mnist_data.append(np.copy(augmented_batch))"
      ]
    },
    {
      "cell_type": "code",
      "execution_count": 5,
      "metadata": {},
      "outputs": [],
      "source": [
        "augmented_batched_mnist_data = jnp.array(augmented_batched_mnist_data)\n",
        "# randomly shuffle the data with numpy\n",
        "augmented_batched_mnist_data = augmented_batched_mnist_data[np.random.permutation(augmented_batched_mnist_data.shape[0])]\n",
        "batched_mnist_data = augmented_batched_mnist_data"
      ]
    },
    {
      "cell_type": "code",
      "execution_count": 6,
      "metadata": {},
      "outputs": [],
      "source": [
        "# split batched_mnist_data into train and test set, 0.8/0.2\n",
        "split = np.split(batched_mnist_data, [int(0.8 * batched_mnist_data.shape[0])])\n",
        "train_set = split[0]\n",
        "test_set = split[1]"
      ]
    },
    {
      "cell_type": "code",
      "execution_count": 7,
      "metadata": {},
      "outputs": [
        {
          "data": {
            "text/plain": [
              "((4051, 10, 785), (1013, 10, 785))"
            ]
          },
          "execution_count": 7,
          "metadata": {},
          "output_type": "execute_result"
        }
      ],
      "source": [
        "train_set.shape, test_set.shape"
      ]
    },
    {
      "cell_type": "code",
      "execution_count": 8,
      "metadata": {},
      "outputs": [],
      "source": [
        "train_set = jnp.array(train_set)\n",
        "train_mnist_data = train_set.at[:, -1, -1].set(-1) # -1 for null label\n",
        "train_mnist_y = train_set[:, -1]\n",
        "\n",
        "test_set = jnp.array(test_set)\n",
        "test_mnist_data = test_set.at[:, -1, -1].set(-1) # -1 for null label\n",
        "test_mnist_y = test_set[:, -1]\n",
        "\n",
        "# pack into train_data and eval_data\n",
        "train_data = (train_mnist_data, train_mnist_y)\n",
        "eval_data = (test_mnist_data, test_mnist_y)"
      ]
    },
    {
      "cell_type": "code",
      "execution_count": 9,
      "metadata": {},
      "outputs": [
        {
          "data": {
            "text/plain": [
              "((1013, 10, 785), (1013, 785))"
            ]
          },
          "execution_count": 9,
          "metadata": {},
          "output_type": "execute_result"
        }
      ],
      "source": [
        "eval_data[0].shape, eval_data[1].shape"
      ]
    },
    {
      "cell_type": "code",
      "execution_count": 10,
      "metadata": {
        "cellView": "form",
        "id": "4KwAI4LZFfcF"
      },
      "outputs": [],
      "source": [
        "#@title Config\n",
        "num_seeds = 1 #@param {type:\"integer\"}\n",
        "\n",
        "from datetime import datetime\n",
        "now = datetime.now()\n",
        "config.local_usage = True\n",
        "config.size_distract = 0\n",
        "config.training_steps = 5000\n",
        "config.training_steps_gd = 5000\n",
        "config.use_softmax = True\n",
        "config.mnist_task = True\n",
        "\n",
        "####\n",
        "config.deq = True\n",
        "config.gd_deq = True\n",
        "####\n",
        "config.pre_train_gd = False\n",
        "config.train_gd_whitening = False\n",
        "config.train_gd_lr = True\n",
        "####\n",
        "\n",
        "config.layer_norm = True\n",
        "config.out_proj = True\n",
        "config.in_proj = False\n",
        "config.adam = True\n",
        "\n",
        "config.output_size = total_classes\n",
        "\n",
        "config.dataset_size = 9\n",
        "config.input_size = 39\n",
        "config.key_size = 40 #config.input_size + 1\n",
        "config.num_layers = 10\n",
        "config.num_heads = 20\n",
        "config.grad_clip_value = 100\n",
        "config.grad_clip_value_gd = 100\n",
        "config.lr = 0.001\n",
        "config.wd = 0.0\n",
        "config.init_scale = 0.002 / config.num_layers\n",
        "config.bs = 2048\n",
        "config.bs_gd_train = 2048\n",
        "config.gd_lr = 0.0003\n",
        "\n",
        "config.dropout_rate = 0.0\n",
        "data_creator = vmap(create_circ_cls_data,\n",
        "                    in_axes=(0, None, None, None, None, None),\n",
        "                    out_axes=0)\n",
        "\n",
        "config.y_update = False\n",
        "config.input_range = 2.0\n",
        "config.seed = 0\n",
        "\n",
        "config.analyse = False\n",
        "config.input_mlp = True\n",
        "config.input_mlp_out_dim = 120\n",
        "config.widening_factor = 4\n",
        "config.sum_norm = False\n",
        "\n",
        "\n",
        "config.in_proj = True\n",
        "config.emb_size = 120\n",
        "config.num_seeds = num_seeds\n",
        "\n",
        "change_dataloader()"
      ]
    },
    {
      "cell_type": "code",
      "execution_count": 11,
      "metadata": {
        "cellView": "form",
        "id": "Li0HaIsW5BFQ"
      },
      "outputs": [],
      "source": [
        "#@title Lists\n",
        "loss_trans_list =  [[]  for _ in range(config.num_seeds)]"
      ]
    },
    {
      "cell_type": "code",
      "execution_count": 12,
      "metadata": {},
      "outputs": [],
      "source": [
        "from utils import load_weights"
      ]
    },
    {
      "cell_type": "code",
      "execution_count": 13,
      "metadata": {
        "cellView": "form",
        "id": "7s4jr3OBpaq9"
      },
      "outputs": [],
      "source": [
        "#@title Training\n",
        "eval_rng = jax.random.PRNGKey(10)\n",
        "for cur_seed in range(config.num_seeds):\n",
        "  if cur_seed == 1:\n",
        "    save_train_params = train_state.params\n",
        "  config.seed = cur_seed  \n",
        "  optimiser, train_state, _, rng = init(train_data)\n",
        "  save_train_params = load_weights(train_state.params, \"data/mnist_pretrained.pkl\")\n",
        "  break\n",
        "  # rng, data_rng = jax.random.split(rng, 2)\n",
        "  # eval_data = data_creator(jax.random.split(eval_rng, num=config.bs),\n",
        "  #                              config.input_size,\n",
        "  #                              config.dataset_size,\n",
        "  #                              config.size_distract,\n",
        "  #                              config.input_range,\n",
        "  #                              config.weight_scale)\n",
        "  \n",
        "  for step in range(config.training_steps):\n",
        "    # rng, data_rng = jax.random.split(data_rng, 2)\n",
        "    # train_data = data_creator(jax.random.split(rng, num=config.bs), \n",
        "    #                           config.input_size,\n",
        "    #                           config.dataset_size,\n",
        "    #                           config.size_distract,\n",
        "    #                           config.input_range,\n",
        "    #                           config.weight_scale)\n",
        "    train_state, metrics = update(train_state, train_data, optimiser)\n",
        "    \n",
        "    #for params in train_state.params:\n",
        "    #  if \"mlp\" in params or 'emb' in params:\n",
        "    #    train_state.params[params] = params_c[params.replace(\"transformer\", \"Transformer_gd\")]\n",
        "    if step % 1000 == 0:\n",
        "      \n",
        "      loss_trans, _, _ = predict_test.apply(train_state.params, eval_rng,\n",
        "                                            eval_data, False)\n",
        "      \n",
        "      loss_trans_list[cur_seed].append(loss_trans)\n",
        "\n",
        "# if config.num_seeds == 1:\n",
        "#   save_train_params = train_state.params\n",
        "#   # plot loss_trans_list\n",
        "#   pl.plot(loss_trans_list[0])"
      ]
    },
    {
      "cell_type": "code",
      "execution_count": 14,
      "metadata": {},
      "outputs": [],
      "source": [
        "def get_embedding(data):\n",
        "    # emb = save_train_params['transformer/emb']['w']\n",
        "    # l0 = save_train_params['transformer/input_mlp/linear']['w']\n",
        "    # l1 = save_train_params['transformer/input_mlp/linear_1']['w']\n",
        "\n",
        "    # embedded = jnp.einsum('ba,dcb->dca', emb, data)\n",
        "\n",
        "    # embedded = embedded + jnp.einsum('aa,cba->cba', l1.T @ l0.T, embedded)\n",
        "    # return embedded\n",
        "    return predict_stack.apply(save_train_params, eval_rng, data, False)"
      ]
    },
    {
      "cell_type": "code",
      "execution_count": 167,
      "metadata": {},
      "outputs": [],
      "source": [
        "tr_idx = 5\n",
        "X = eval_data[0]\n",
        "Y = eval_data[1]\n",
        "\n",
        "# perturb X\n",
        "# perturb_num = 2\n",
        "# X = X.at[tr_idx, :perturb_num, 2].add(10.0)\n",
        "X_only = X.at[:, :, -1].set(-1)\n",
        "\n",
        "emb = get_embedding(X_only)[tr_idx]\n",
        "# standardize\n",
        "# emb = (emb - emb.mean(axis=0)) / emb.std(axis=0)\n",
        "gt = X[tr_idx][:, -1]\n",
        "# w = jnp.linalg.lstsq(emb[:-1], gt[:-1])[0]\n",
        "# w = train_weight(emb[:-1], gt[:-1], lr=0.01)\n",
        "\n",
        "X_b = emb[:-1]\n",
        "n_features = X_b.shape[1]\n",
        "y = gt[:-1]\n",
        "alpha = 0.01\n",
        "\n",
        "# convert y to one hot\n",
        "y = jax.nn.one_hot(y, config.output_size)\n",
        "\n",
        "w = np.linalg.inv(X_b.T.dot(X_b) + alpha * np.eye(n_features)).dot(X_b.T).dot(y)\n"
      ]
    },
    {
      "cell_type": "code",
      "execution_count": 168,
      "metadata": {},
      "outputs": [],
      "source": [
        "def calc_influence(idx):\n",
        "    # the first 10 are inputs, the last one is test\n",
        "    emb_train_all = emb[:-1]\n",
        "    emb_train = emb[idx:idx+1]\n",
        "    emb_test = emb[-1:]\n",
        "\n",
        "    gt_train = X[tr_idx][idx:idx+1, -1]\n",
        "    gt_test = Y[tr_idx][-1]\n",
        "\n",
        "    k = emb_train_all.T @ emb_train_all\n",
        "    # influence of the training data on w\n",
        "    pred = emb_train @ w\n",
        "    gt_train_one_hot = jax.nn.one_hot(gt_train, config.output_size)\n",
        "    infl_w = np.linalg.solve(k + alpha * jnp.eye(k.shape[0]), emb_train.T @ (pred - gt_train_one_hot) + alpha * w)\n",
        "    # influence of a test point on w\n",
        "    gt_test_one_hot = jax.nn.one_hot(gt_test, config.output_size)\n",
        "    d_loss = emb_test.T @ (emb_test @ w - gt_test_one_hot) + alpha * w\n",
        "    return (jnp.ravel(d_loss) @ jnp.ravel(infl_w)).item()\n"
      ]
    },
    {
      "cell_type": "code",
      "execution_count": 169,
      "metadata": {},
      "outputs": [
        {
          "name": "stdout",
          "output_type": "stream",
          "text": [
            "index 0, normalized influence: -0.3304947316646576\n",
            "index 1, normalized influence: -0.31288060545921326\n",
            "index 2, normalized influence: -0.39792436361312866\n",
            "index 3, normalized influence: -0.32680097222328186\n",
            "index 4, normalized influence: -0.28126442432403564\n",
            "index 5, normalized influence: -0.31559836864471436\n",
            "index 6, normalized influence: -0.3455107510089874\n",
            "index 7, normalized influence: -0.306253582239151\n",
            "index 8, normalized influence: -0.3685857951641083\n"
          ]
        }
      ],
      "source": [
        "infls = []\n",
        "for i in range(config.dataset_size):\n",
        "    infl = calc_influence(i)\n",
        "    infls.append(infl)\n",
        "infls = jnp.array(infls)\n",
        "# normalize the influence\n",
        "infls = infls / jnp.linalg.norm(infls)\n",
        "for i in range(config.dataset_size):\n",
        "    print(f\"index {i}, normalized influence: {infls[i]}\")"
      ]
    },
    {
      "cell_type": "code",
      "execution_count": 170,
      "metadata": {},
      "outputs": [
        {
          "name": "stdout",
          "output_type": "stream",
          "text": [
            "[0 2 6 8 9]\n",
            "[-27.83828  -22.616919 -10.740705  -3.082974  -7.418506]\n",
            "[1 3 4 5 7 9]\n",
            "[-40.977932  -21.96825    -5.102263   -3.972045   -0.5478198]\n"
          ]
        },
        {
          "data": {
            "image/png": "[encoded data removed]",
            "text/plain": [
              "<Figure size 640x480 with 30 Axes>"
            ]
          },
          "metadata": {},
          "output_type": "display_data"
        }
      ],
      "source": [
        "from utils import set_up_plotting\n",
        "\n",
        "set_up_plotting()\n",
        "\n",
        "image_arrays = X[tr_idx][:-1, :-1].reshape(-1, 28, 28)\n",
        "labels = X[tr_idx][:-1, -1]\n",
        "\n",
        "map_int_to_abcd = {0: 'A', 1: 'B', 2: 'C', 3: 'D', 4: 'E'}\n",
        "\n",
        "# plot all the images in the dataset\n",
        "for i, image in enumerate(image_arrays):\n",
        "    ax = pl.subplot(3, 10, i+1)\n",
        "    ax.imshow(image, cmap='gray')\n",
        "    # highlight images with high influence\n",
        "    # find the median of the influence\n",
        "    median = jnp.median(infls)\n",
        "    if infls[i] >= median:\n",
        "        ax.set_title(rf\"$I$={infls[i]:.2f}\", color='darkgreen', fontsize=10)\n",
        "    else:\n",
        "        ax.set_title(rf\"$I$={infls[i]:.2f}\", color='firebrick', fontsize=10)\n",
        "    ax.set_xticks([])\n",
        "    ax.set_yticks([])\n",
        "    ax.set_xlabel(f\"label: {map_int_to_abcd[int(labels[i])]}\", fontsize=10)\n",
        "\n",
        "test_image = X[tr_idx][-1, :-1].reshape(28, 28)\n",
        "label = Y[tr_idx][-1]\n",
        "pred_trans = predict.apply(save_train_params, eval_rng, X[tr_idx:tr_idx+1], False)\n",
        "# pred_trans = pred_trans[:, -1, -1]*(-1.0)\n",
        "pred_trans = jnp.argmax(pred_trans[:, -1])\n",
        "\n",
        "\n",
        "ax = pl.subplot(3,10,10)\n",
        "ax.imshow(test_image, cmap='gray')\n",
        "ax.set_xticks([])\n",
        "ax.set_yticks([])\n",
        "ax.set_title(f\"pred: {map_int_to_abcd[int(pred_trans)]}\", color='darkgreen', fontsize=10)\n",
        "ax.set_xlabel(f\"GT: {map_int_to_abcd[int(label)]}\", color='darkgreen', fontsize=10)\n",
        "\n",
        "\n",
        "\n",
        "\"\"\"Remove the top 5 images with the highest influence\n",
        "\"\"\"\n",
        "\n",
        "image_arrays = X[tr_idx][:-1, :-1].reshape(-1, 28, 28)\n",
        "labels = X[tr_idx][:-1, -1]\n",
        "\n",
        "test_image = X[tr_idx][-1, :-1].reshape(28, 28)\n",
        "label = Y[tr_idx][-1]\n",
        "num_remove = 5\n",
        "ranks = jnp.argsort(infls)[:-num_remove]\n",
        "# sort the indices in descending order\n",
        "ranks = ranks.sort()\n",
        "# append the test image idx to ranks\n",
        "ranks = jnp.append(ranks, config.dataset_size)\n",
        "print(ranks)\n",
        "\n",
        "# plot all the remaining images in the dataset\n",
        "for i, image in enumerate(image_arrays):\n",
        "    if i not in ranks:\n",
        "        image = np.ones_like(image) * 255\n",
        "    ax = pl.subplot(3, 10, 10 + i+1)\n",
        "    ax.imshow(image, cmap='gray')\n",
        "    # highlight images with high influence\n",
        "    # median = jnp.median(infls)\n",
        "    # if infls[i] >= median:\n",
        "    #     ax.set_title(rf\"$I$={infls[i]:.2f}\", color='darkgreen', fontsize=10)\n",
        "    # else:\n",
        "    #     ax.set_title(rf\"$I$={infls[i]:.2f}\", color='firebrick', fontsize=10)\n",
        "    ax.set_xticks([])\n",
        "    ax.set_yticks([])\n",
        "    ax.set_xlabel(f\"label: {map_int_to_abcd[int(labels[i])]}\", fontsize=10)\n",
        "\n",
        "logits = predict.apply(save_train_params, eval_rng, X[tr_idx:tr_idx+1, ranks], False)[-1, -1]\n",
        "print(logits)\n",
        "pred_trans = jnp.argmax(logits)\n",
        "\n",
        "\n",
        "ax = pl.subplot(3,10,20)\n",
        "ax.imshow(test_image, cmap='gray')\n",
        "ax.set_xticks([])\n",
        "ax.set_yticks([])\n",
        "ax.set_title(f\"pred: {map_int_to_abcd[pred_trans.item()]}\", color='firebrick', fontsize=10)\n",
        "ax.set_xlabel(f\"GT: {map_int_to_abcd[int(label)]}\", color='firebrick', fontsize=10)\n",
        "\n",
        "\n",
        "\n",
        "\n",
        "\n",
        "\"\"\"Remove the bottom 5 images with the lowest influence\n",
        "\"\"\"\n",
        "\n",
        "\n",
        "image_arrays = X[tr_idx][:-1, :-1].reshape(-1, 28, 28)\n",
        "labels = X[tr_idx][:-1, -1]\n",
        "\n",
        "test_image = X[tr_idx][-1, :-1].reshape(28, 28)\n",
        "label = Y[tr_idx][-1]\n",
        "num_remove = 5\n",
        "ranks = jnp.argsort(infls)[num_remove-1:]\n",
        "# sort the indices in descending order\n",
        "ranks = ranks.sort()\n",
        "ranks = jnp.append(ranks, config.dataset_size)\n",
        "print(ranks)\n",
        "\n",
        "# plot all the remaining images in the dataset\n",
        "for i, image in enumerate(image_arrays):\n",
        "    ax = pl.subplot(3, 10, 20 + i+1)\n",
        "    if i not in ranks:\n",
        "        # show the removed images in white\n",
        "        image = np.ones_like(image) * 255\n",
        "    ax.imshow(image, cmap='gray')\n",
        "    # highlight images with high influence\n",
        "    # median = jnp.median(infls)\n",
        "    # if infls[i] >= median:\n",
        "    #     ax.set_title(rf\"$I$={infls[i]:.2f}\", color='darkgreen', fontsize=10)\n",
        "    # else:\n",
        "    #     ax.set_title(rf\"$I$={infls[i]:.2f}\", color='firebrick', fontsize=10)\n",
        "    ax.set_xticks([])\n",
        "    ax.set_yticks([])\n",
        "    ax.set_xlabel(f\"label: {map_int_to_abcd[int(labels[i])]}\", fontsize=10)\n",
        "\n",
        "logits = predict.apply(save_train_params, eval_rng, X[tr_idx:tr_idx+1, ranks], False)[-1, -1]\n",
        "print(logits)\n",
        "pred_trans = jnp.argmax(logits)\n",
        "\n",
        "\n",
        "ax = pl.subplot(3,10,30)\n",
        "\n",
        "ax.imshow(test_image, cmap='gray')\n",
        "ax.set_xticks([])\n",
        "ax.set_yticks([])\n",
        "ax.set_title(f\"pred: {map_int_to_abcd[ pred_trans.item() ]}\", color='darkgreen', fontsize=10)\n",
        "ax.set_xlabel(f\"GT: {map_int_to_abcd[ int(label) ]}\", color='darkgreen', fontsize=10)\n",
        "\n",
        "\n",
        "\n",
        "\n",
        "\n",
        "\n",
        "\n",
        "# make the plot look nice\n",
        "pl.tight_layout(h_pad=-10)\n",
        "\n",
        "# save the plot\n",
        "pl.savefig(f\"figs/influence_mnist_all_data.pdf\", format='pdf', bbox_inches='tight', dpi=300)\n",
        "\n",
        "# pl.show()"
      ]
    },
    {
      "cell_type": "code",
      "execution_count": null,
      "metadata": {},
      "outputs": [],
      "source": []
    }
  ],
  "metadata": {
    "accelerator": "TPU",
    "colab": {
      "machine_shape": "hm",
      "name": "non_linear_regression",
      "private_outputs": true,
      "provenance": []
    },
    "kernelspec": {
      "display_name": "Python 3 (ipykernel)",
      "language": "python",
      "name": "python3"
    },
    "language_info": {
      "codemirror_mode": {
        "name": "ipython",
        "version": 3
      },
      "file_extension": ".py",
      "mimetype": "text/x-python",
      "name": "python",
      "nbconvert_exporter": "python",
      "pygments_lexer": "ipython3",
      "version": "3.10.13"
    },
    "vscode": {
      "interpreter": {
        "hash": "31f2aee4e71d21fbe5cf8b01ff0e069b9275f58929596ceb00d14d90e3e16cd6"
      }
    }
  },
  "nbformat": 4,
  "nbformat_minor": 0
}
